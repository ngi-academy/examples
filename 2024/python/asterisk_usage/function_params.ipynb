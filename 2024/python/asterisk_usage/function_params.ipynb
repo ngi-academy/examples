{
 "cells": [
  {
   "cell_type": "markdown",
   "metadata": {},
   "source": [
    "# what does * symbol on the gather function parameter indicate?\n",
    "\n",
    "The `*` symbol in Python has different meanings depending on where and how it is used. In the context you're referring to (i.e., `asyncio.gather(*tasks)`), `*` is used for unpacking. \n",
    "\n",
    "When `*` is used in a function call, as in `asyncio.gather(*tasks)`, it unpacks a list (or other iterable), using its elements as separate arguments in the function call.\n",
    "\n",
    "So, if `tasks` is a list of tasks like `[task1, task2, task3]`:\n",
    "\n",
    "- Calling `asyncio.gather(tasks)` would mean you're passing a single argument which is a list itself.\n",
    "- Calling `asyncio.gather(*tasks)` would expand to `asyncio.gather(task1, task2, task3)`, which means you're passing each task as a separate argument.\n",
    "\n",
    "The `asyncio.gather` function expects separate Futures (or Tasks, which are a type of Future), not a list of them, so you need to use `*` to unpack the list.\n",
    "\n",
    "Another example to show the usage of `*`:\n",
    "\n",
    "```python\n",
    "def foo(a, b, c):\n",
    "    print(a, b, c)\n",
    "\n",
    "args = [1, 2, 3]\n",
    "foo(*args)  # prints: 1 2 3\n",
    "```\n"
   ]
  },
  {
   "cell_type": "markdown",
   "metadata": {},
   "source": [
    "# what does **kwargs mean then?\n",
    "\n",
    "`**kwargs` in Python is used to pass a variable-length list of keyword arguments to a function, and it is most commonly used in function definitions.\n",
    "\n",
    "The `**` before an argument in a function signature is used to capture any remaining arguments provided in the function call to a dictionary. \n",
    "\n",
    "The `kwargs` (short for keyword arguments) is just a name and can be any valid variable name, but it is widely used by convention. \n",
    "\n",
    "Here is a simple example to demonstrate `**kwargs`:\n",
    "\n",
    "```python\n",
    "def function(**kwargs):\n",
    "    for key, value in kwargs.items():\n",
    "        print(f\"The value of {key} is {value}\")\n",
    "\n",
    "function(name='John', age=25, country='USA')\n",
    "```\n",
    "\n",
    "When you run this script, it outputs:\n",
    "\n",
    "```python\n",
    "The value of name is John\n",
    "The value of age is 25\n",
    "The value of country is USA\n",
    "```\n",
    "So `**kwargs` is essentially a dictionary that is getting unpacked into keyword arguments in the function call."
   ]
  },
  {
   "cell_type": "markdown",
   "metadata": {},
   "source": [
    "# So, single * for list unpacking and double * for dictionary unpacking?\n",
    "\n",
    "Yes, that's correct.\n",
    "\n",
    "In Python, the single asterisk `*` is used to unpack iterables such as lists or tuples into positional arguments in a function call, while the double asterisk `**` is used to unpack dictionaries into keyword arguments in a function call.\n",
    "\n",
    "Here's an example to show both:\n",
    "\n",
    "```python\n",
    "def func(a, b, c, d):\n",
    "    print(a, b, c, d)\n",
    "\n",
    "# list/tuple unpacking\n",
    "args = [1, 2]\n",
    "func(*args, 3, 4)  # Output: 1 2 3 4\n",
    "\n",
    "# dictionary unpacking\n",
    "kwargs = {'c': 3, 'd': 4}\n",
    "func(1, 2, **kwargs)  # Output: 1 2 3 4\n",
    "```\n",
    "\n",
    "In the first function call, `[1, 2]` is unpacked into `a` and `b`. In the second function call, `{'c': 3, 'd': 4}` is unpacked into `c` and `d`. This allows values to be passed to a function by matching on argument names rather than relying solely on their position in the function call, which can enhance readability and robustness of code.\n"
   ]
  }
 ],
 "metadata": {
  "language_info": {
   "name": "python"
  }
 },
 "nbformat": 4,
 "nbformat_minor": 2
}
