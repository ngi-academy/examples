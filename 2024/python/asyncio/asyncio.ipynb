{
 "cells": [
  {
   "cell_type": "markdown",
   "metadata": {},
   "source": [
    "# Overview\n",
    "\n",
    "## Coroutines\n",
    "Use them to perform asynchronous tasks\n",
    "\n",
    "## Tasks\n",
    "Use them to perform multiple co-routines concurrently\n",
    "\n",
    "## Task Groups\n",
    "\n",
    "Use them to avoid explicit code required to run tasks and wait for them to finish\n",
    "\n",
    "## Timeout and WaitFor\n",
    "\n",
    "Use them to put a threshold wait time for any long running tasks"
   ]
  },
  {
   "cell_type": "markdown",
   "metadata": {},
   "source": [
    "## Using Coroutine as Runners"
   ]
  },
  {
   "cell_type": "code",
   "execution_count": 4,
   "metadata": {},
   "outputs": [
    {
     "name": "stdout",
     "output_type": "stream",
     "text": [
      "Starting to do async work...\n",
      "Finished the async work after two seconds\n"
     ]
    }
   ],
   "source": [
    "import asyncio\n",
    "async def do_async_work():\n",
    "    print(\"Starting to do async work...\")\n",
    "    await asyncio.sleep(2)\n",
    "    print(\"Finished the async work after two seconds\")\n",
    "\n",
    "await do_async_work()"
   ]
  },
  {
   "cell_type": "markdown",
   "metadata": {},
   "source": [
    "## Using Tasks"
   ]
  },
  {
   "cell_type": "code",
   "execution_count": 7,
   "metadata": {},
   "outputs": [
    {
     "name": "stdout",
     "output_type": "stream",
     "text": [
      "Started to perform the task: fecth water from well\n",
      "Started to perform the task: get vegitables from the market\n",
      "Finished the task: get vegitables from the market\n",
      "Finished the task: fecth water from well\n",
      "Started to perform the task: select a nice movie to watch\n",
      "Finished the task: select a nice movie to watch\n"
     ]
    }
   ],
   "source": [
    "async def do_some_io_task(about: str, task_dur: int):\n",
    "    print(f\"Started to perform the task: {about}\")\n",
    "    await asyncio.sleep(task_dur)\n",
    "    print(f\"Finished the task: {about}\")\n",
    "\n",
    "task1 = asyncio.create_task(do_some_io_task(\"fecth water from well\", 5))\n",
    "task2 = asyncio.create_task(do_some_io_task(\"get vegitables from the market\", 2))\n",
    "\n",
    "await task1\n",
    "await task2\n",
    "\n",
    "task3 = asyncio.create_task(do_some_io_task(\"select a nice movie to watch\", 7))\n",
    "\n",
    "await task3\n",
    "\n"
   ]
  },
  {
   "cell_type": "markdown",
   "metadata": {},
   "source": [
    "# Using Task Group"
   ]
  },
  {
   "cell_type": "code",
   "execution_count": 28,
   "metadata": {},
   "outputs": [],
   "source": [
    "chop_list = [\n",
    "    (\"brinjal\", 2),\n",
    "    (\"carrot\", 3),\n",
    "    (\"onion\", 12),\n",
    "    (\"tomato\", 5)\n",
    "]\n",
    "\n",
    "async def do_chop_work(vegitable: str, cutting_dur: int):\n",
    "    print(f\"starting to cut {vegitable}\")\n",
    "    await asyncio.sleep(cutting_dur)\n",
    "    return f\"finished chopping {vegitable}\"\n",
    "\n",
    "tasks = [do_chop_work(name, dur) for name, dur in chop_list]"
   ]
  },
  {
   "cell_type": "code",
   "execution_count": 24,
   "metadata": {},
   "outputs": [
    {
     "name": "stdout",
     "output_type": "stream",
     "text": [
      "starting to cut brinjal\n",
      "starting to cut carrot\n",
      "starting to cut onion\n",
      "starting to cut tomato\n",
      "finished chopping brinjal\n",
      "finished chopping carrot\n",
      "finished chopping onion\n",
      "finished chopping tomato\n"
     ]
    }
   ],
   "source": [
    "results = await asyncio.gather(*tasks)\n",
    "\n",
    "print(\"\\n\".join(results))"
   ]
  },
  {
   "cell_type": "markdown",
   "metadata": {},
   "source": [
    "# asyncio.gather Vs asyncio.wait"
   ]
  },
  {
   "cell_type": "markdown",
   "metadata": {},
   "source": [
    "`asyncio.gather` and `asyncio.wait` are both functions in Python's asyncio library that deal with scheduling and controlling multiple tasks at once. While they have several similarities, there are also key differences:\n",
    "\n",
    "1. **Return Values**:\n",
    "   - `asyncio.gather`: returns the results of all tasks as a single list in the order they were passed in, regardless of the order in which they completed.\n",
    "   - `asyncio.wait`: returns a pair of sets. The first set contains the futures that completed (either because they finished or because an error occurred) and the second includes the ones that didn't.\n",
    "\n",
    "2. **Cancelling**:\n",
    "   - `asyncio.gather`: if the `gather` call is cancelled, all subtasks will be cancelled.\n",
    "   - `asyncio.wait`: if the `wait` is cancelled, it will cancel all provided tasks that are still running and immediately return.\n",
    "\n",
    "3. **Error Handling**:\n",
    "   - `asyncio.gather`: raises the first exception that was raised by one of the tasks. If `return_exceptions=True` is passed to `gather()`, exceptions are treated the same as successful results, and gathered in the result list.\n",
    "   - `asyncio.wait`: does not raise exceptions from the tasks. You need to check each Future's `exception()` method manually.\n",
    "   \n",
    "In summary, the choice between them depends on your use case. If you want to simply run multiple tasks concurrently and gather their results, `asyncio.gather` is a good choice. If you need more control over which tasks have completed and which haven't, or need to handle exceptions manually, `asyncio.wait` may be the better choice."
   ]
  },
  {
   "cell_type": "markdown",
   "metadata": {},
   "source": [
    "# Consider the scenario where you want to execute multiple tasks and if some task is a long running task you want to timeout and return but still have other tasks finish their work"
   ]
  },
  {
   "cell_type": "code",
   "execution_count": 32,
   "metadata": {},
   "outputs": [
    {
     "name": "stdout",
     "output_type": "stream",
     "text": [
      "starting to cut brinjal\n",
      "starting to cut carrot\n",
      "starting to cut onion\n",
      "starting to cut tomato\n",
      "Task brinjal result: finished chopping brinjal\n",
      "Task carrot result: finished chopping carrot\n",
      "Task onion was timeout because it ran too long.\n",
      "Task tomato result: finished chopping tomato\n"
     ]
    }
   ],
   "source": [
    "import asyncio\n",
    "\n",
    "chop_list = [\n",
    "    (\"brinjal\", 2),\n",
    "    (\"carrot\", 3),\n",
    "    (\"onion\", 12),\n",
    "    (\"tomato\", 5)\n",
    "]\n",
    "\n",
    "MAX_TIME_OUT_FOR_TASK = 10\n",
    "\n",
    "async def do_chop_work(vegitable: str, cutting_dur: int):\n",
    "    print(f\"starting to cut {vegitable}\")\n",
    "    await asyncio.sleep(cutting_dur)\n",
    "    return f\"finished chopping {vegitable}\"\n",
    "\n",
    "# create a list to store all the tasks\n",
    "tasks = [asyncio.wait_for(do_chop_work(vegetable, duration), timeout=MAX_TIME_OUT_FOR_TASK)\n",
    "            for vegetable, duration in chop_list]\n",
    "\n",
    "# gather the results, if a task is cancelled due to a TimeoutError, store the exception instead\n",
    "results = await asyncio.gather(*tasks, return_exceptions=True)\n",
    "\n",
    "# process the results\n",
    "for task, result in zip(chop_list, results):\n",
    "    if isinstance(result, asyncio.TimeoutError):\n",
    "        print(f\"Task {task[0]} was timeout because it ran too long.\")\n",
    "    elif isinstance(result, asyncio.CancelledError):\n",
    "        print(f\"Task {task[0]} was cancelled because it ran too long.\")\n",
    "    elif isinstance(result, Exception):\n",
    "        print(f\"Task {task[0]} raised an exception: {str(result)}\")\n",
    "    else:\n",
    "        print(f\"Task {task[0]} result: {result}\")"
   ]
  }
 ],
 "metadata": {
  "kernelspec": {
   "display_name": "Python 3",
   "language": "python",
   "name": "python3"
  },
  "language_info": {
   "codemirror_mode": {
    "name": "ipython",
    "version": 3
   },
   "file_extension": ".py",
   "mimetype": "text/x-python",
   "name": "python",
   "nbconvert_exporter": "python",
   "pygments_lexer": "ipython3",
   "version": "3.11.10"
  }
 },
 "nbformat": 4,
 "nbformat_minor": 2
}
